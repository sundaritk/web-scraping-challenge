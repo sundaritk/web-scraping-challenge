{
 "cells": [
  {
   "cell_type": "code",
   "execution_count": 1,
   "metadata": {},
   "outputs": [],
   "source": [
    "from bs4 import BeautifulSoup as bs\n",
    "import requests\n",
    "import pymongo\n",
    "from splinter import Browser\n",
    "import pandas as pd\n",
    "import time"
   ]
  },
  {
   "cell_type": "code",
   "execution_count": 2,
   "metadata": {},
   "outputs": [],
   "source": [
    "#Setting up the browser\n",
    "executable_path={'executable_path': 'chromedriver.exe'}\n",
    "browser = Browser('chrome', **executable_path, headless=False)"
   ]
  },
  {
   "cell_type": "code",
   "execution_count": 3,
   "metadata": {},
   "outputs": [
    {
     "name": "stdout",
     "output_type": "stream",
     "text": [
      "---Scraping Begins---\n"
     ]
    }
   ],
   "source": [
    "### NASA Mars News\n",
    "url = 'https://mars.nasa.gov/news/'\n",
    "browser.visit(url)\n",
    "tlts=[]\n",
    "bdys=[]\n",
    "html = browser.html\n",
    "soup = bs(html, 'html.parser')\n",
    "\n",
    "results = soup.find_all(class_='slide')\n",
    "print(\"---Scraping Begins---\")\n",
    "for result in results[:20]:\n",
    "    tlt = result.find(class_='content_title').text.strip()\n",
    "    bdy = result.find(class_='article_teaser_body').text.strip()\n",
    "    tlts.append(tlt)\n",
    "    bdys.append(bdy)\n",
    "    #print(tlt)\n",
    "    #print(bdy)\n",
    "    #print(\"---scraping---\")\n",
    "try:\n",
    "    #browser.click_link_by_partial_text('more')\n",
    "    browser.links.find_by_partial_text('more')\n",
    "except:\n",
    "    print(\"---Scraping Complete---\")"
   ]
  },
  {
   "cell_type": "code",
   "execution_count": 4,
   "metadata": {},
   "outputs": [
    {
     "name": "stdout",
     "output_type": "stream",
     "text": [
      "Virginia Middle School Student Earns Honor of Naming NASA's Next Mars Rover\n",
      "NASA chose a seventh-grader from Virginia as winner of the agency's \"Name the Rover\" essay contest. Alexander Mather's entry for \"Perseverance\" was voted tops among 28,000 entries.\n"
     ]
    }
   ],
   "source": [
    "# new title and details\n",
    "news_title=tlts[0]\n",
    "news_p=bdys[0]\n",
    "print(news_title)\n",
    "print(news_p)"
   ]
  },
  {
   "cell_type": "code",
   "execution_count": 5,
   "metadata": {},
   "outputs": [
    {
     "name": "stdout",
     "output_type": "stream",
     "text": [
      "https://www.jpl.nasa.gov/spaceimages/images/largesize/PIA20316_hires.jpg\n"
     ]
    }
   ],
   "source": [
    "### JPL Mars Space Images - Featured Image ---\n",
    "url2 = 'https://www.jpl.nasa.gov/spaceimages/?search=&category=Mars'\n",
    "browser.visit(url2)\n",
    "\n",
    "#Find the full_image id and clicking on it \n",
    "full_image_click = browser.find_by_id('full_image')\n",
    "full_image_click.click()\n",
    "\n",
    "#Setting a wait time before clicking on more info\n",
    "more_info = browser.is_element_present_by_text('more info', wait_time=10)\n",
    "more_info = browser.links.find_by_partial_text('more info')\n",
    "more_info.click()\n",
    "\n",
    "\n",
    "#Using Beautiful Soup to parse the html\n",
    "image_html = browser.html\n",
    "image_soup = bs(image_html, 'html.parser')\n",
    "\n",
    "#Selecting html tag\n",
    "featured_image = image_soup.select_one('figure.lede a img').get('src')\n",
    "\n",
    "#Making a long url\n",
    "featured_image_url = 'https://www.jpl.nasa.gov' + featured_image\n",
    "print(featured_image_url)"
   ]
  },
  {
   "cell_type": "code",
   "execution_count": 6,
   "metadata": {},
   "outputs": [
    {
     "name": "stdout",
     "output_type": "stream",
     "text": [
      "Mars weather:\n",
      "InSight sol 457 (2020-03-10) low -95.7ºC (-140.3ºF) high -9.1ºC (15.6ºF)\n",
      "winds from the SSE at 6.5 m/s (14.5 mph) gusting to 21.0 m/s (46.9 mph)\n",
      "pressure at 6.30 hPa\n"
     ]
    }
   ],
   "source": [
    "### Mars Weather ---\n",
    "url3 = 'https://twitter.com/marswxreport?lang=en'\n",
    "response_twtr = requests.get(url3)\n",
    "soup = bs(response_twtr.text, 'html.parser')\n",
    "mars_weathers = soup.find_all('p', class_=\"TweetTextSize\")\n",
    "for tweet in mars_weathers:\n",
    "    tweet.find('a').extract()\n",
    "    if 'InSight sol' in tweet.text:\n",
    "        mars_weather = tweet.text\n",
    "        break\n",
    "\n",
    "print(f'Mars weather:\\n{mars_weather}')"
   ]
  },
  {
   "cell_type": "code",
   "execution_count": 8,
   "metadata": {},
   "outputs": [
    {
     "data": {
      "text/plain": [
       "[['Equatorial Diameter:', '6,792 km'],\n",
       " ['Polar Diameter:', '6,752 km'],\n",
       " ['Mass:', '6.39 × 10^23 kg (0.11 Earths)'],\n",
       " ['Moons:', '2 (Phobos & Deimos)'],\n",
       " ['Orbit Distance:', '227,943,824 km (1.38 AU)'],\n",
       " ['Orbit Period:', '687 days (1.9 years)'],\n",
       " ['Surface Temperature:', '-87 to -5 °C'],\n",
       " ['First Record:', '2nd millennium BC'],\n",
       " ['Recorded By:', 'Egyptian astronomers']]"
      ]
     },
     "execution_count": 8,
     "metadata": {},
     "output_type": "execute_result"
    }
   ],
   "source": [
    "### Mars Facts ---\n",
    "url4='https://space-facts.com/mars/'\n",
    "table = pd.read_html(url4)\n",
    "mars_facts = table[0]\n",
    "mars_fact = []\n",
    "for i in range(len(mars_facts[0])):\n",
    "    mars_fact.append([mars_facts[0][i], mars_facts[1][i]])\n",
    "mars_fact"
   ]
  },
  {
   "cell_type": "code",
   "execution_count": 9,
   "metadata": {},
   "outputs": [
    {
     "data": {
      "text/plain": [
       "[{'title': 'Cerberus Hemisphere Enhanced',\n",
       "  'img_url': 'https://astrogeology.usgs.gov//cache/images/cfa62af2557222a02478f1fcd781d445_cerberus_enhanced.tif_full.jpg'},\n",
       " {'title': 'Schiaparelli Hemisphere Enhanced',\n",
       "  'img_url': 'https://astrogeology.usgs.gov//cache/images/3cdd1cbf5e0813bba925c9030d13b62e_schiaparelli_enhanced.tif_full.jpg'},\n",
       " {'title': 'Syrtis Major Hemisphere Enhanced',\n",
       "  'img_url': 'https://astrogeology.usgs.gov//cache/images/ae209b4e408bb6c3e67b6af38168cf28_syrtis_major_enhanced.tif_full.jpg'},\n",
       " {'title': 'Valles Marineris Hemisphere Enhanced',\n",
       "  'img_url': 'https://astrogeology.usgs.gov//cache/images/7cf2da4bf549ed01c17f206327be4db7_valles_marineris_enhanced.tif_full.jpg'}]"
      ]
     },
     "execution_count": 9,
     "metadata": {},
     "output_type": "execute_result"
    }
   ],
   "source": [
    "### Mars hemispheres ---\n",
    "url4= 'https://astrogeology.usgs.gov/search/results?q=hemisphere+enhanced&k1=target&v1=Mars'\n",
    "browser.visit(url4)\n",
    "soup = bs(browser.html, 'html.parser')\n",
    "\n",
    "hemispheres_image_urls = []\n",
    "\n",
    "results_hemis = soup.find_all('div', class_='item')\n",
    "\n",
    "for item in results_hemis:\n",
    "    title_hemis = item.h3.text\n",
    "    first_url = url4[:30] + item.find('a', class_='itemLink')['href']\n",
    "    browser.visit(first_url)\n",
    "    soup = bs(browser.html, 'html.parser')\n",
    "    time.sleep(1)\n",
    "    final_url = url4[:30] + soup.find('img', class_='wide-image')['src']\n",
    "    hemispheres_image_urls .append({'title': title_hemis, 'img_url':final_url})\n",
    "    \n",
    "hemispheres_image_urls"
   ]
  },
  {
   "cell_type": "code",
   "execution_count": null,
   "metadata": {},
   "outputs": [],
   "source": []
  }
 ],
 "metadata": {
  "kernelspec": {
   "display_name": "Python 3",
   "language": "python",
   "name": "python3"
  },
  "language_info": {
   "codemirror_mode": {
    "name": "ipython",
    "version": 3
   },
   "file_extension": ".py",
   "mimetype": "text/x-python",
   "name": "python",
   "nbconvert_exporter": "python",
   "pygments_lexer": "ipython3",
   "version": "3.6.9"
  }
 },
 "nbformat": 4,
 "nbformat_minor": 4
}
